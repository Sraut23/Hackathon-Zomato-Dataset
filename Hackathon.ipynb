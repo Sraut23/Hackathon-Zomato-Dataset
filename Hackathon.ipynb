{
  "nbformat": 4,
  "nbformat_minor": 0,
  "metadata": {
    "colab": {
      "provenance": []
    },
    "kernelspec": {
      "name": "python3",
      "display_name": "Python 3"
    },
    "language_info": {
      "name": "python"
    }
  },
  "cells": [
    {
      "cell_type": "code",
      "execution_count": 1,
      "metadata": {
        "id": "7fhuErbUmddg"
      },
      "outputs": [],
      "source": [
        "import pandas as pd\n",
        "import numpy as np\n",
        "import matplotlib.pyplot as plt\n",
        "import seaborn as sns\n",
        "from geopy.geocoders import Nominatim\n",
        "from geopy.exc import GeocoderTimedOut\n",
        "from IPython.core.display import display, HTML\n",
        "import time"
      ]
    },
    {
      "cell_type": "code",
      "source": [
        "df=pd.read_csv(\"/content/zomato_data.csv\")"
      ],
      "metadata": {
        "id": "1xEXziRDmwbX"
      },
      "execution_count": 5,
      "outputs": []
    },
    {
      "cell_type": "code",
      "source": [
        "df.shape"
      ],
      "metadata": {
        "colab": {
          "base_uri": "https://localhost:8080/"
        },
        "id": "BO_1Xindm1th",
        "outputId": "8bc4da88-27d6-40b6-9ebf-9b07887bfe84"
      },
      "execution_count": 6,
      "outputs": [
        {
          "output_type": "execute_result",
          "data": {
            "text/plain": [
              "(51717, 10)"
            ]
          },
          "metadata": {},
          "execution_count": 6
        }
      ]
    },
    {
      "cell_type": "code",
      "source": [
        "df.info()"
      ],
      "metadata": {
        "colab": {
          "base_uri": "https://localhost:8080/"
        },
        "id": "Ph-ZDgS-m6IR",
        "outputId": "114ceaa2-db60-429e-ac3c-25138a5df854"
      },
      "execution_count": 7,
      "outputs": [
        {
          "output_type": "stream",
          "name": "stdout",
          "text": [
            "<class 'pandas.core.frame.DataFrame'>\n",
            "RangeIndex: 51717 entries, 0 to 51716\n",
            "Data columns (total 10 columns):\n",
            " #   Column                     Non-Null Count  Dtype \n",
            "---  ------                     --------------  ----- \n",
            " 0   online_order               51717 non-null  object\n",
            " 1   book_table                 51717 non-null  object\n",
            " 2   rate                       43942 non-null  object\n",
            " 3   votes                      51717 non-null  int64 \n",
            " 4   rest_type                  51490 non-null  object\n",
            " 5   dish_liked                 23639 non-null  object\n",
            " 6   cuisines                   51672 non-null  object\n",
            " 7   approx_costfor_two_people  51371 non-null  object\n",
            " 8   listed_intype              51717 non-null  object\n",
            " 9   listed_incity              51717 non-null  object\n",
            "dtypes: int64(1), object(9)\n",
            "memory usage: 3.9+ MB\n"
          ]
        }
      ]
    },
    {
      "cell_type": "code",
      "source": [
        "df.describe()"
      ],
      "metadata": {
        "colab": {
          "base_uri": "https://localhost:8080/",
          "height": 300
        },
        "id": "7vco-8ram9fR",
        "outputId": "921ab73f-d138-452c-b075-373fc73f2c31"
      },
      "execution_count": 8,
      "outputs": [
        {
          "output_type": "execute_result",
          "data": {
            "text/plain": [
              "              votes\n",
              "count  51717.000000\n",
              "mean     283.697527\n",
              "std      803.838853\n",
              "min        0.000000\n",
              "25%        7.000000\n",
              "50%       41.000000\n",
              "75%      198.000000\n",
              "max    16832.000000"
            ],
            "text/html": [
              "\n",
              "  <div id=\"df-4085c22e-4010-460c-ab82-5d4a940bc1ed\" class=\"colab-df-container\">\n",
              "    <div>\n",
              "<style scoped>\n",
              "    .dataframe tbody tr th:only-of-type {\n",
              "        vertical-align: middle;\n",
              "    }\n",
              "\n",
              "    .dataframe tbody tr th {\n",
              "        vertical-align: top;\n",
              "    }\n",
              "\n",
              "    .dataframe thead th {\n",
              "        text-align: right;\n",
              "    }\n",
              "</style>\n",
              "<table border=\"1\" class=\"dataframe\">\n",
              "  <thead>\n",
              "    <tr style=\"text-align: right;\">\n",
              "      <th></th>\n",
              "      <th>votes</th>\n",
              "    </tr>\n",
              "  </thead>\n",
              "  <tbody>\n",
              "    <tr>\n",
              "      <th>count</th>\n",
              "      <td>51717.000000</td>\n",
              "    </tr>\n",
              "    <tr>\n",
              "      <th>mean</th>\n",
              "      <td>283.697527</td>\n",
              "    </tr>\n",
              "    <tr>\n",
              "      <th>std</th>\n",
              "      <td>803.838853</td>\n",
              "    </tr>\n",
              "    <tr>\n",
              "      <th>min</th>\n",
              "      <td>0.000000</td>\n",
              "    </tr>\n",
              "    <tr>\n",
              "      <th>25%</th>\n",
              "      <td>7.000000</td>\n",
              "    </tr>\n",
              "    <tr>\n",
              "      <th>50%</th>\n",
              "      <td>41.000000</td>\n",
              "    </tr>\n",
              "    <tr>\n",
              "      <th>75%</th>\n",
              "      <td>198.000000</td>\n",
              "    </tr>\n",
              "    <tr>\n",
              "      <th>max</th>\n",
              "      <td>16832.000000</td>\n",
              "    </tr>\n",
              "  </tbody>\n",
              "</table>\n",
              "</div>\n",
              "    <div class=\"colab-df-buttons\">\n",
              "\n",
              "  <div class=\"colab-df-container\">\n",
              "    <button class=\"colab-df-convert\" onclick=\"convertToInteractive('df-4085c22e-4010-460c-ab82-5d4a940bc1ed')\"\n",
              "            title=\"Convert this dataframe to an interactive table.\"\n",
              "            style=\"display:none;\">\n",
              "\n",
              "  <svg xmlns=\"http://www.w3.org/2000/svg\" height=\"24px\" viewBox=\"0 -960 960 960\">\n",
              "    <path d=\"M120-120v-720h720v720H120Zm60-500h600v-160H180v160Zm220 220h160v-160H400v160Zm0 220h160v-160H400v160ZM180-400h160v-160H180v160Zm440 0h160v-160H620v160ZM180-180h160v-160H180v160Zm440 0h160v-160H620v160Z\"/>\n",
              "  </svg>\n",
              "    </button>\n",
              "\n",
              "  <style>\n",
              "    .colab-df-container {\n",
              "      display:flex;\n",
              "      gap: 12px;\n",
              "    }\n",
              "\n",
              "    .colab-df-convert {\n",
              "      background-color: #E8F0FE;\n",
              "      border: none;\n",
              "      border-radius: 50%;\n",
              "      cursor: pointer;\n",
              "      display: none;\n",
              "      fill: #1967D2;\n",
              "      height: 32px;\n",
              "      padding: 0 0 0 0;\n",
              "      width: 32px;\n",
              "    }\n",
              "\n",
              "    .colab-df-convert:hover {\n",
              "      background-color: #E2EBFA;\n",
              "      box-shadow: 0px 1px 2px rgba(60, 64, 67, 0.3), 0px 1px 3px 1px rgba(60, 64, 67, 0.15);\n",
              "      fill: #174EA6;\n",
              "    }\n",
              "\n",
              "    .colab-df-buttons div {\n",
              "      margin-bottom: 4px;\n",
              "    }\n",
              "\n",
              "    [theme=dark] .colab-df-convert {\n",
              "      background-color: #3B4455;\n",
              "      fill: #D2E3FC;\n",
              "    }\n",
              "\n",
              "    [theme=dark] .colab-df-convert:hover {\n",
              "      background-color: #434B5C;\n",
              "      box-shadow: 0px 1px 3px 1px rgba(0, 0, 0, 0.15);\n",
              "      filter: drop-shadow(0px 1px 2px rgba(0, 0, 0, 0.3));\n",
              "      fill: #FFFFFF;\n",
              "    }\n",
              "  </style>\n",
              "\n",
              "    <script>\n",
              "      const buttonEl =\n",
              "        document.querySelector('#df-4085c22e-4010-460c-ab82-5d4a940bc1ed button.colab-df-convert');\n",
              "      buttonEl.style.display =\n",
              "        google.colab.kernel.accessAllowed ? 'block' : 'none';\n",
              "\n",
              "      async function convertToInteractive(key) {\n",
              "        const element = document.querySelector('#df-4085c22e-4010-460c-ab82-5d4a940bc1ed');\n",
              "        const dataTable =\n",
              "          await google.colab.kernel.invokeFunction('convertToInteractive',\n",
              "                                                    [key], {});\n",
              "        if (!dataTable) return;\n",
              "\n",
              "        const docLinkHtml = 'Like what you see? Visit the ' +\n",
              "          '<a target=\"_blank\" href=https://colab.research.google.com/notebooks/data_table.ipynb>data table notebook</a>'\n",
              "          + ' to learn more about interactive tables.';\n",
              "        element.innerHTML = '';\n",
              "        dataTable['output_type'] = 'display_data';\n",
              "        await google.colab.output.renderOutput(dataTable, element);\n",
              "        const docLink = document.createElement('div');\n",
              "        docLink.innerHTML = docLinkHtml;\n",
              "        element.appendChild(docLink);\n",
              "      }\n",
              "    </script>\n",
              "  </div>\n",
              "\n",
              "\n",
              "<div id=\"df-53b5cd3d-a8c2-4931-92fb-2a4d1f2710ed\">\n",
              "  <button class=\"colab-df-quickchart\" onclick=\"quickchart('df-53b5cd3d-a8c2-4931-92fb-2a4d1f2710ed')\"\n",
              "            title=\"Suggest charts\"\n",
              "            style=\"display:none;\">\n",
              "\n",
              "<svg xmlns=\"http://www.w3.org/2000/svg\" height=\"24px\"viewBox=\"0 0 24 24\"\n",
              "     width=\"24px\">\n",
              "    <g>\n",
              "        <path d=\"M19 3H5c-1.1 0-2 .9-2 2v14c0 1.1.9 2 2 2h14c1.1 0 2-.9 2-2V5c0-1.1-.9-2-2-2zM9 17H7v-7h2v7zm4 0h-2V7h2v10zm4 0h-2v-4h2v4z\"/>\n",
              "    </g>\n",
              "</svg>\n",
              "  </button>\n",
              "\n",
              "<style>\n",
              "  .colab-df-quickchart {\n",
              "      --bg-color: #E8F0FE;\n",
              "      --fill-color: #1967D2;\n",
              "      --hover-bg-color: #E2EBFA;\n",
              "      --hover-fill-color: #174EA6;\n",
              "      --disabled-fill-color: #AAA;\n",
              "      --disabled-bg-color: #DDD;\n",
              "  }\n",
              "\n",
              "  [theme=dark] .colab-df-quickchart {\n",
              "      --bg-color: #3B4455;\n",
              "      --fill-color: #D2E3FC;\n",
              "      --hover-bg-color: #434B5C;\n",
              "      --hover-fill-color: #FFFFFF;\n",
              "      --disabled-bg-color: #3B4455;\n",
              "      --disabled-fill-color: #666;\n",
              "  }\n",
              "\n",
              "  .colab-df-quickchart {\n",
              "    background-color: var(--bg-color);\n",
              "    border: none;\n",
              "    border-radius: 50%;\n",
              "    cursor: pointer;\n",
              "    display: none;\n",
              "    fill: var(--fill-color);\n",
              "    height: 32px;\n",
              "    padding: 0;\n",
              "    width: 32px;\n",
              "  }\n",
              "\n",
              "  .colab-df-quickchart:hover {\n",
              "    background-color: var(--hover-bg-color);\n",
              "    box-shadow: 0 1px 2px rgba(60, 64, 67, 0.3), 0 1px 3px 1px rgba(60, 64, 67, 0.15);\n",
              "    fill: var(--button-hover-fill-color);\n",
              "  }\n",
              "\n",
              "  .colab-df-quickchart-complete:disabled,\n",
              "  .colab-df-quickchart-complete:disabled:hover {\n",
              "    background-color: var(--disabled-bg-color);\n",
              "    fill: var(--disabled-fill-color);\n",
              "    box-shadow: none;\n",
              "  }\n",
              "\n",
              "  .colab-df-spinner {\n",
              "    border: 2px solid var(--fill-color);\n",
              "    border-color: transparent;\n",
              "    border-bottom-color: var(--fill-color);\n",
              "    animation:\n",
              "      spin 1s steps(1) infinite;\n",
              "  }\n",
              "\n",
              "  @keyframes spin {\n",
              "    0% {\n",
              "      border-color: transparent;\n",
              "      border-bottom-color: var(--fill-color);\n",
              "      border-left-color: var(--fill-color);\n",
              "    }\n",
              "    20% {\n",
              "      border-color: transparent;\n",
              "      border-left-color: var(--fill-color);\n",
              "      border-top-color: var(--fill-color);\n",
              "    }\n",
              "    30% {\n",
              "      border-color: transparent;\n",
              "      border-left-color: var(--fill-color);\n",
              "      border-top-color: var(--fill-color);\n",
              "      border-right-color: var(--fill-color);\n",
              "    }\n",
              "    40% {\n",
              "      border-color: transparent;\n",
              "      border-right-color: var(--fill-color);\n",
              "      border-top-color: var(--fill-color);\n",
              "    }\n",
              "    60% {\n",
              "      border-color: transparent;\n",
              "      border-right-color: var(--fill-color);\n",
              "    }\n",
              "    80% {\n",
              "      border-color: transparent;\n",
              "      border-right-color: var(--fill-color);\n",
              "      border-bottom-color: var(--fill-color);\n",
              "    }\n",
              "    90% {\n",
              "      border-color: transparent;\n",
              "      border-bottom-color: var(--fill-color);\n",
              "    }\n",
              "  }\n",
              "</style>\n",
              "\n",
              "  <script>\n",
              "    async function quickchart(key) {\n",
              "      const quickchartButtonEl =\n",
              "        document.querySelector('#' + key + ' button');\n",
              "      quickchartButtonEl.disabled = true;  // To prevent multiple clicks.\n",
              "      quickchartButtonEl.classList.add('colab-df-spinner');\n",
              "      try {\n",
              "        const charts = await google.colab.kernel.invokeFunction(\n",
              "            'suggestCharts', [key], {});\n",
              "      } catch (error) {\n",
              "        console.error('Error during call to suggestCharts:', error);\n",
              "      }\n",
              "      quickchartButtonEl.classList.remove('colab-df-spinner');\n",
              "      quickchartButtonEl.classList.add('colab-df-quickchart-complete');\n",
              "    }\n",
              "    (() => {\n",
              "      let quickchartButtonEl =\n",
              "        document.querySelector('#df-53b5cd3d-a8c2-4931-92fb-2a4d1f2710ed button');\n",
              "      quickchartButtonEl.style.display =\n",
              "        google.colab.kernel.accessAllowed ? 'block' : 'none';\n",
              "    })();\n",
              "  </script>\n",
              "</div>\n",
              "\n",
              "    </div>\n",
              "  </div>\n"
            ],
            "application/vnd.google.colaboratory.intrinsic+json": {
              "type": "dataframe",
              "summary": "{\n  \"name\": \"df\",\n  \"rows\": 8,\n  \"fields\": [\n    {\n      \"column\": \"votes\",\n      \"properties\": {\n        \"dtype\": \"number\",\n        \"std\": 18315.82366942701,\n        \"min\": 0.0,\n        \"max\": 51717.0,\n        \"num_unique_values\": 8,\n        \"samples\": [\n          283.69752692538236,\n          41.0,\n          51717.0\n        ],\n        \"semantic_type\": \"\",\n        \"description\": \"\"\n      }\n    }\n  ]\n}"
            }
          },
          "metadata": {},
          "execution_count": 8
        }
      ]
    },
    {
      "cell_type": "code",
      "source": [
        "df.columns"
      ],
      "metadata": {
        "colab": {
          "base_uri": "https://localhost:8080/"
        },
        "id": "8Gh_myOan0P4",
        "outputId": "e08a7ef3-7751-42dd-e650-51b370d718fb"
      },
      "execution_count": 9,
      "outputs": [
        {
          "output_type": "execute_result",
          "data": {
            "text/plain": [
              "Index(['online_order', 'book_table', 'rate', 'votes', 'rest_type',\n",
              "       'dish_liked', 'cuisines', 'approx_costfor_two_people', 'listed_intype',\n",
              "       'listed_incity'],\n",
              "      dtype='object')"
            ]
          },
          "metadata": {},
          "execution_count": 9
        }
      ]
    },
    {
      "cell_type": "code",
      "source": [
        "# how many restraunts serve north indian cuisine\n",
        "df[df['cuisines'].str.contains('North Indian',na=False)].shape[0]"
      ],
      "metadata": {
        "colab": {
          "base_uri": "https://localhost:8080/"
        },
        "id": "vaMbzK3enAl_",
        "outputId": "faac1d96-4a9b-4dc9-8004-529dc0e76974"
      },
      "execution_count": 10,
      "outputs": [
        {
          "output_type": "execute_result",
          "data": {
            "text/plain": [
              "21085"
            ]
          },
          "metadata": {},
          "execution_count": 10
        }
      ]
    },
    {
      "cell_type": "code",
      "source": [
        "# what cuisine is most commolny offered by restraunts in bangalore\n",
        "cuisine_series = df['cuisines'].dropna()\n",
        "cuisine_exploded = cuisine_series.str.split(',').explode().str.strip()\n",
        "cuisine_counts = cuisine_exploded.value_counts()\n",
        "print(\"Top 10 Most Common Cuisines in Bangalore:\")\n",
        "print(cuisine_counts.head(10))"
      ],
      "metadata": {
        "id": "Stb4_EnnnXeQ",
        "colab": {
          "base_uri": "https://localhost:8080/"
        },
        "outputId": "412f4d20-c480-4b56-de98-497b17188ab3"
      },
      "execution_count": 11,
      "outputs": [
        {
          "output_type": "stream",
          "name": "stdout",
          "text": [
            "Top 10 Most Common Cuisines in Bangalore:\n",
            "cuisines\n",
            "North Indian    21085\n",
            "Chinese         15547\n",
            "South Indian     8644\n",
            "Fast Food        8096\n",
            "Biryani          6492\n",
            "Continental      5765\n",
            "Desserts         5633\n",
            "Cafe             5303\n",
            "Beverages        4747\n",
            "Italian          3389\n",
            "Name: count, dtype: int64\n"
          ]
        }
      ]
    },
    {
      "cell_type": "code",
      "source": [
        "# which locality in banglore has the highest average cost for dining (for two people)\n",
        "\n",
        "df['approx_costfor_two_people'] = df['approx_costfor_two_people'].replace(',', '', regex=True)\n",
        "df['approx_costfor_two_people'] = pd.to_numeric(df['approx_costfor_two_people'], errors='coerce')\n",
        "\n",
        "avg_cost_by_locality = df.groupby('listed_incity')['approx_costfor_two_people'].mean().sort_values(ascending=False)\n",
        "avg_cost_by_locality.head(10)\n"
      ],
      "metadata": {
        "colab": {
          "base_uri": "https://localhost:8080/",
          "height": 429
        },
        "id": "SbDlQsOInjz0",
        "outputId": "1b2b267a-20b1-457e-8208-40b40888dc2a"
      },
      "execution_count": 14,
      "outputs": [
        {
          "output_type": "execute_result",
          "data": {
            "text/plain": [
              "listed_incity\n",
              "Church Street       771.990104\n",
              "Brigade Road        767.091115\n",
              "MG Road             763.987696\n",
              "Lavelle Road        753.584873\n",
              "Residency Road      742.960723\n",
              "Indiranagar         654.753655\n",
              "Old Airport Road    610.877698\n",
              "Whitefield          579.159925\n",
              "Malleshwaram        574.789762\n",
              "Frazer Town         558.237288\n",
              "Name: approx_costfor_two_people, dtype: float64"
            ],
            "text/html": [
              "<div>\n",
              "<style scoped>\n",
              "    .dataframe tbody tr th:only-of-type {\n",
              "        vertical-align: middle;\n",
              "    }\n",
              "\n",
              "    .dataframe tbody tr th {\n",
              "        vertical-align: top;\n",
              "    }\n",
              "\n",
              "    .dataframe thead th {\n",
              "        text-align: right;\n",
              "    }\n",
              "</style>\n",
              "<table border=\"1\" class=\"dataframe\">\n",
              "  <thead>\n",
              "    <tr style=\"text-align: right;\">\n",
              "      <th></th>\n",
              "      <th>approx_costfor_two_people</th>\n",
              "    </tr>\n",
              "    <tr>\n",
              "      <th>listed_incity</th>\n",
              "      <th></th>\n",
              "    </tr>\n",
              "  </thead>\n",
              "  <tbody>\n",
              "    <tr>\n",
              "      <th>Church Street</th>\n",
              "      <td>771.990104</td>\n",
              "    </tr>\n",
              "    <tr>\n",
              "      <th>Brigade Road</th>\n",
              "      <td>767.091115</td>\n",
              "    </tr>\n",
              "    <tr>\n",
              "      <th>MG Road</th>\n",
              "      <td>763.987696</td>\n",
              "    </tr>\n",
              "    <tr>\n",
              "      <th>Lavelle Road</th>\n",
              "      <td>753.584873</td>\n",
              "    </tr>\n",
              "    <tr>\n",
              "      <th>Residency Road</th>\n",
              "      <td>742.960723</td>\n",
              "    </tr>\n",
              "    <tr>\n",
              "      <th>Indiranagar</th>\n",
              "      <td>654.753655</td>\n",
              "    </tr>\n",
              "    <tr>\n",
              "      <th>Old Airport Road</th>\n",
              "      <td>610.877698</td>\n",
              "    </tr>\n",
              "    <tr>\n",
              "      <th>Whitefield</th>\n",
              "      <td>579.159925</td>\n",
              "    </tr>\n",
              "    <tr>\n",
              "      <th>Malleshwaram</th>\n",
              "      <td>574.789762</td>\n",
              "    </tr>\n",
              "    <tr>\n",
              "      <th>Frazer Town</th>\n",
              "      <td>558.237288</td>\n",
              "    </tr>\n",
              "  </tbody>\n",
              "</table>\n",
              "</div><br><label><b>dtype:</b> float64</label>"
            ]
          },
          "metadata": {},
          "execution_count": 14
        }
      ]
    },
    {
      "cell_type": "code",
      "source": [
        "# which restraunt type has the top rating with over 1000 votes\n",
        "\n",
        "df['rate'] = pd.to_numeric(df['rate'].str.split('/').str[0], errors='coerce')\n",
        "df[df['votes'] > 1000].groupby('rest_type')['rate'].mean().sort_values(ascending=False).head(1)"
      ],
      "metadata": {
        "colab": {
          "base_uri": "https://localhost:8080/",
          "height": 147
        },
        "id": "CqA5CMido6x5",
        "outputId": "8c7b8d7f-c476-4718-cc69-63271af39845"
      },
      "execution_count": null,
      "outputs": [
        {
          "output_type": "execute_result",
          "data": {
            "text/plain": [
              "rest_type\n",
              "Bakery    4.8\n",
              "Name: rate, dtype: float64"
            ],
            "text/html": [
              "<div>\n",
              "<style scoped>\n",
              "    .dataframe tbody tr th:only-of-type {\n",
              "        vertical-align: middle;\n",
              "    }\n",
              "\n",
              "    .dataframe tbody tr th {\n",
              "        vertical-align: top;\n",
              "    }\n",
              "\n",
              "    .dataframe thead th {\n",
              "        text-align: right;\n",
              "    }\n",
              "</style>\n",
              "<table border=\"1\" class=\"dataframe\">\n",
              "  <thead>\n",
              "    <tr style=\"text-align: right;\">\n",
              "      <th></th>\n",
              "      <th>rate</th>\n",
              "    </tr>\n",
              "    <tr>\n",
              "      <th>rest_type</th>\n",
              "      <th></th>\n",
              "    </tr>\n",
              "  </thead>\n",
              "  <tbody>\n",
              "    <tr>\n",
              "      <th>Bakery</th>\n",
              "      <td>4.8</td>\n",
              "    </tr>\n",
              "  </tbody>\n",
              "</table>\n",
              "</div><br><label><b>dtype:</b> float64</label>"
            ]
          },
          "metadata": {},
          "execution_count": 17
        }
      ]
    },
    {
      "cell_type": "code",
      "source": [
        "# how much does it cost at minimum to eat out in banglore\n",
        "\n",
        "min_cost = df['approx_costfor_two_people'].min()\n",
        "min_cost"
      ],
      "metadata": {
        "colab": {
          "base_uri": "https://localhost:8080/"
        },
        "id": "TDdodDh5pTmN",
        "outputId": "a75dc62f-db81-4ac0-8c99-595df3dfb138"
      },
      "execution_count": 15,
      "outputs": [
        {
          "output_type": "execute_result",
          "data": {
            "text/plain": [
              "40.0"
            ]
          },
          "metadata": {},
          "execution_count": 15
        }
      ]
    },
    {
      "cell_type": "code",
      "source": [
        "# what percentge of toal online orders is received by restraunt in banashankari\n",
        "\n",
        "banashankari_online = df[(df['listed_incity'] == 'Banashankari') & (df['online_order'] == 'Yes')]\n",
        "total_online_orders = df[df['online_order'] == 'Yes'].shape[0]\n",
        "banashankari_online_count = banashankari_online.shape[0]\n",
        "\n",
        "percentage_banashankari_online = (banashankari_online_count / total_online_orders) * 100\n",
        "percentage_banashankari_online"
      ],
      "metadata": {
        "id": "c-UjwG74p0pA",
        "colab": {
          "base_uri": "https://localhost:8080/"
        },
        "outputId": "48e22b18-dc67-4ac2-a568-9d310ae27cb1"
      },
      "execution_count": 17,
      "outputs": [
        {
          "output_type": "execute_result",
          "data": {
            "text/plain": [
              "1.7934568387859677"
            ]
          },
          "metadata": {},
          "execution_count": 17
        }
      ]
    },
    {
      "cell_type": "code",
      "source": [
        "# which locality has the most restraunts with over 500 votes and a rating below 3.0\n",
        "\n",
        "df['rate_clean'] = df['rate'].replace(['NEW', '-', 'NEW ', ' - '], pd.NA)\n",
        "df['rate_clean'] = df['rate_clean'].str.extract(r'(\\d+\\.?\\d*)')\n",
        "df['rate_clean'] = pd.to_numeric(df['rate_clean'], errors='coerce')\n",
        "\n",
        "filtered_df = df[(df['votes'] > 500) & (df['rate_clean'] < 3.0)]\n",
        "\n",
        "low_rated_popular_by_locality = filtered_df['listed_incity'].value_counts()\n",
        "\n",
        "low_rated_popular_by_locality.head(10)"
      ],
      "metadata": {
        "id": "jrUkyLhmqFYB",
        "colab": {
          "base_uri": "https://localhost:8080/",
          "height": 429
        },
        "outputId": "1fd36a12-33c1-4b7a-9743-b6bc9e3ecb80"
      },
      "execution_count": 18,
      "outputs": [
        {
          "output_type": "execute_result",
          "data": {
            "text/plain": [
              "listed_incity\n",
              "Brookefield              8\n",
              "Whitefield               6\n",
              "Indiranagar              4\n",
              "Old Airport Road         4\n",
              "Marathahalli             3\n",
              "Bellandur                3\n",
              "Banashankari             2\n",
              "Koramangala 7th Block    2\n",
              "Koramangala 6th Block    2\n",
              "Koramangala 5th Block    2\n",
              "Name: count, dtype: int64"
            ],
            "text/html": [
              "<div>\n",
              "<style scoped>\n",
              "    .dataframe tbody tr th:only-of-type {\n",
              "        vertical-align: middle;\n",
              "    }\n",
              "\n",
              "    .dataframe tbody tr th {\n",
              "        vertical-align: top;\n",
              "    }\n",
              "\n",
              "    .dataframe thead th {\n",
              "        text-align: right;\n",
              "    }\n",
              "</style>\n",
              "<table border=\"1\" class=\"dataframe\">\n",
              "  <thead>\n",
              "    <tr style=\"text-align: right;\">\n",
              "      <th></th>\n",
              "      <th>count</th>\n",
              "    </tr>\n",
              "    <tr>\n",
              "      <th>listed_incity</th>\n",
              "      <th></th>\n",
              "    </tr>\n",
              "  </thead>\n",
              "  <tbody>\n",
              "    <tr>\n",
              "      <th>Brookefield</th>\n",
              "      <td>8</td>\n",
              "    </tr>\n",
              "    <tr>\n",
              "      <th>Whitefield</th>\n",
              "      <td>6</td>\n",
              "    </tr>\n",
              "    <tr>\n",
              "      <th>Indiranagar</th>\n",
              "      <td>4</td>\n",
              "    </tr>\n",
              "    <tr>\n",
              "      <th>Old Airport Road</th>\n",
              "      <td>4</td>\n",
              "    </tr>\n",
              "    <tr>\n",
              "      <th>Marathahalli</th>\n",
              "      <td>3</td>\n",
              "    </tr>\n",
              "    <tr>\n",
              "      <th>Bellandur</th>\n",
              "      <td>3</td>\n",
              "    </tr>\n",
              "    <tr>\n",
              "      <th>Banashankari</th>\n",
              "      <td>2</td>\n",
              "    </tr>\n",
              "    <tr>\n",
              "      <th>Koramangala 7th Block</th>\n",
              "      <td>2</td>\n",
              "    </tr>\n",
              "    <tr>\n",
              "      <th>Koramangala 6th Block</th>\n",
              "      <td>2</td>\n",
              "    </tr>\n",
              "    <tr>\n",
              "      <th>Koramangala 5th Block</th>\n",
              "      <td>2</td>\n",
              "    </tr>\n",
              "  </tbody>\n",
              "</table>\n",
              "</div><br><label><b>dtype:</b> int64</label>"
            ]
          },
          "metadata": {},
          "execution_count": 18
        }
      ]
    },
    {
      "cell_type": "code",
      "source": [
        "# which locality in banglore should zomato target for expasion based on restraunt type diversity\n",
        "rest_type_diversity = df.groupby('listed_incity')['rest_type'].nunique()\n",
        "\n",
        "rest_type_diversity_sorted = rest_type_diversity.sort_values(ascending=False)\n",
        "\n",
        "print(rest_type_diversity_sorted.head())\n",
        "\n",
        "rest_type_diversity_sorted.tail()\n"
      ],
      "metadata": {
        "colab": {
          "base_uri": "https://localhost:8080/",
          "height": 400
        },
        "id": "8YHGxE_Mqbtg",
        "outputId": "677305bb-8873-4a66-9e58-517b4ed8dd95"
      },
      "execution_count": 19,
      "outputs": [
        {
          "output_type": "stream",
          "name": "stdout",
          "text": [
            "listed_incity\n",
            "BTM              61\n",
            "Brigade Road     60\n",
            "Church Street    60\n",
            "Lavelle Road     58\n",
            "MG Road          58\n",
            "Name: rest_type, dtype: int64\n"
          ]
        },
        {
          "output_type": "execute_result",
          "data": {
            "text/plain": [
              "listed_incity\n",
              "Kalyan Nagar       41\n",
              "Basavanagudi       39\n",
              "Banashankari       37\n",
              "Electronic City    34\n",
              "New BEL Road       34\n",
              "Name: rest_type, dtype: int64"
            ],
            "text/html": [
              "<div>\n",
              "<style scoped>\n",
              "    .dataframe tbody tr th:only-of-type {\n",
              "        vertical-align: middle;\n",
              "    }\n",
              "\n",
              "    .dataframe tbody tr th {\n",
              "        vertical-align: top;\n",
              "    }\n",
              "\n",
              "    .dataframe thead th {\n",
              "        text-align: right;\n",
              "    }\n",
              "</style>\n",
              "<table border=\"1\" class=\"dataframe\">\n",
              "  <thead>\n",
              "    <tr style=\"text-align: right;\">\n",
              "      <th></th>\n",
              "      <th>rest_type</th>\n",
              "    </tr>\n",
              "    <tr>\n",
              "      <th>listed_incity</th>\n",
              "      <th></th>\n",
              "    </tr>\n",
              "  </thead>\n",
              "  <tbody>\n",
              "    <tr>\n",
              "      <th>Kalyan Nagar</th>\n",
              "      <td>41</td>\n",
              "    </tr>\n",
              "    <tr>\n",
              "      <th>Basavanagudi</th>\n",
              "      <td>39</td>\n",
              "    </tr>\n",
              "    <tr>\n",
              "      <th>Banashankari</th>\n",
              "      <td>37</td>\n",
              "    </tr>\n",
              "    <tr>\n",
              "      <th>Electronic City</th>\n",
              "      <td>34</td>\n",
              "    </tr>\n",
              "    <tr>\n",
              "      <th>New BEL Road</th>\n",
              "      <td>34</td>\n",
              "    </tr>\n",
              "  </tbody>\n",
              "</table>\n",
              "</div><br><label><b>dtype:</b> int64</label>"
            ]
          },
          "metadata": {},
          "execution_count": 19
        }
      ]
    },
    {
      "cell_type": "code",
      "source": [
        "# what is the average cost difference between buffet and delivery restraunts\n",
        "\n",
        "buffet_cost = df[df['listed_intype'] == 'Buffet']['approx_costfor_two_people'].mean()\n",
        "delivery_cost = df[df['listed_intype'] == 'Delivery']['approx_costfor_two_people'].mean()\n",
        "\n",
        "cost_difference = buffet_cost - delivery_cost\n",
        "\n",
        "print(f\"Buffet Avg Cost: ₹{buffet_cost:.2f}\")\n",
        "print(f\"Delivery Avg Cost: ₹{delivery_cost:.2f}\")\n",
        "print(f\"Difference: ₹{cost_difference:.2f}\")\n"
      ],
      "metadata": {
        "colab": {
          "base_uri": "https://localhost:8080/"
        },
        "id": "tEgxOpEtq2h1",
        "outputId": "ab9dee5a-cc5b-40c1-9430-32e4c1537ce9"
      },
      "execution_count": 20,
      "outputs": [
        {
          "output_type": "stream",
          "name": "stdout",
          "text": [
            "Buffet Avg Cost: ₹1306.66\n",
            "Delivery Avg Cost: ₹464.49\n",
            "Difference: ₹842.17\n"
          ]
        }
      ]
    },
    {
      "cell_type": "code",
      "source": [
        "# What is the maximum number of votes received by any restaurant with online ordering?\n",
        "\n",
        "online_order_restaurants = df[df['online_order'] == 'Yes']\n",
        "max_votes_online = online_order_restaurants['votes'].max()\n",
        "max_votes_online\n"
      ],
      "metadata": {
        "colab": {
          "base_uri": "https://localhost:8080/"
        },
        "id": "7hunR1L0LhAM",
        "outputId": "4c5280b4-9ae7-4fb5-984e-e645f7b5f6af"
      },
      "execution_count": 22,
      "outputs": [
        {
          "output_type": "execute_result",
          "data": {
            "text/plain": [
              "16832"
            ]
          },
          "metadata": {},
          "execution_count": 22
        }
      ]
    },
    {
      "cell_type": "code",
      "source": [
        "# what is the average rating of restraunts that serve both north indian and chinese cusines\n",
        "df_clean = df.dropna()\n",
        "df['rate_cleaned'] = df['rate'].str.extract(r'(\\d+\\.?\\d*)')\n",
        "df['rate_cleaned'] = pd.to_numeric(df['rate_cleaned'], errors='coerce')\n",
        "def serves_north_indian_and_chinese(cuisines):\n",
        "    if pd.isnull(cuisines):\n",
        "        return False\n",
        "    cuisines_list = [c.strip().lower() for c in cuisines.split(',')]\n",
        "    return 'north indian' in cuisines_list and 'chinese' in cuisines_list\n",
        "\n",
        "df_filtered = df[df['cuisines'].apply(serves_north_indian_and_chinese)]\n",
        "average_rating = df_filtered['rate_cleaned'].mean()\n",
        "\n",
        "print(f\"Average rating of restaurants serving both North Indian and Chinese cuisines: {average_rating:.2f}\")"
      ],
      "metadata": {
        "colab": {
          "base_uri": "https://localhost:8080/"
        },
        "id": "TAY_i434tOy7",
        "outputId": "7873d2c1-a6bc-4932-98f5-87760c320d0c"
      },
      "execution_count": 23,
      "outputs": [
        {
          "output_type": "stream",
          "name": "stdout",
          "text": [
            "Average rating of restaurants serving both North Indian and Chinese cuisines: 3.57\n"
          ]
        }
      ]
    },
    {
      "cell_type": "code",
      "source": [
        "# what is the most pofitable area for zomato based on potential revenue estimation\n",
        "\n",
        "df['potential_revenue'] = df['votes'] * df['approx_costfor_two_people']\n",
        "revenue_by_locality = df.groupby('listed_incity')['potential_revenue'].sum().sort_values(ascending=False)\n",
        "\n",
        "revenue_by_locality.head(10)"
      ],
      "metadata": {
        "colab": {
          "base_uri": "https://localhost:8080/",
          "height": 429
        },
        "id": "ZXByeGrEtD2a",
        "outputId": "8400645a-2da9-4be1-8599-9f3f18a064f9"
      },
      "execution_count": 24,
      "outputs": [
        {
          "output_type": "execute_result",
          "data": {
            "text/plain": [
              "listed_incity\n",
              "Koramangala 7th Block    1.001584e+09\n",
              "Koramangala 5th Block    9.830431e+08\n",
              "MG Road                  9.258321e+08\n",
              "BTM                      9.236680e+08\n",
              "Koramangala 4th Block    9.155205e+08\n",
              "Koramangala 6th Block    9.013880e+08\n",
              "Church Street            8.946558e+08\n",
              "Indiranagar              8.745998e+08\n",
              "Brigade Road             8.324030e+08\n",
              "Residency Road           7.558860e+08\n",
              "Name: potential_revenue, dtype: float64"
            ],
            "text/html": [
              "<div>\n",
              "<style scoped>\n",
              "    .dataframe tbody tr th:only-of-type {\n",
              "        vertical-align: middle;\n",
              "    }\n",
              "\n",
              "    .dataframe tbody tr th {\n",
              "        vertical-align: top;\n",
              "    }\n",
              "\n",
              "    .dataframe thead th {\n",
              "        text-align: right;\n",
              "    }\n",
              "</style>\n",
              "<table border=\"1\" class=\"dataframe\">\n",
              "  <thead>\n",
              "    <tr style=\"text-align: right;\">\n",
              "      <th></th>\n",
              "      <th>potential_revenue</th>\n",
              "    </tr>\n",
              "    <tr>\n",
              "      <th>listed_incity</th>\n",
              "      <th></th>\n",
              "    </tr>\n",
              "  </thead>\n",
              "  <tbody>\n",
              "    <tr>\n",
              "      <th>Koramangala 7th Block</th>\n",
              "      <td>1.001584e+09</td>\n",
              "    </tr>\n",
              "    <tr>\n",
              "      <th>Koramangala 5th Block</th>\n",
              "      <td>9.830431e+08</td>\n",
              "    </tr>\n",
              "    <tr>\n",
              "      <th>MG Road</th>\n",
              "      <td>9.258321e+08</td>\n",
              "    </tr>\n",
              "    <tr>\n",
              "      <th>BTM</th>\n",
              "      <td>9.236680e+08</td>\n",
              "    </tr>\n",
              "    <tr>\n",
              "      <th>Koramangala 4th Block</th>\n",
              "      <td>9.155205e+08</td>\n",
              "    </tr>\n",
              "    <tr>\n",
              "      <th>Koramangala 6th Block</th>\n",
              "      <td>9.013880e+08</td>\n",
              "    </tr>\n",
              "    <tr>\n",
              "      <th>Church Street</th>\n",
              "      <td>8.946558e+08</td>\n",
              "    </tr>\n",
              "    <tr>\n",
              "      <th>Indiranagar</th>\n",
              "      <td>8.745998e+08</td>\n",
              "    </tr>\n",
              "    <tr>\n",
              "      <th>Brigade Road</th>\n",
              "      <td>8.324030e+08</td>\n",
              "    </tr>\n",
              "    <tr>\n",
              "      <th>Residency Road</th>\n",
              "      <td>7.558860e+08</td>\n",
              "    </tr>\n",
              "  </tbody>\n",
              "</table>\n",
              "</div><br><label><b>dtype:</b> float64</label>"
            ]
          },
          "metadata": {},
          "execution_count": 24
        }
      ]
    },
    {
      "cell_type": "code",
      "source": [
        "# if zomatao wants to reduce customer complaints which restraunt type should they focus on\n",
        "if df['rate'].dtype == object:\n",
        "    df['rate'] = df['rate'].str.extract(r'(\\d+\\.?\\d*)')\n",
        "\n",
        "df['rate'] = pd.to_numeric(df['rate'], errors='coerce')\n",
        "df_clean = df.dropna(subset=['rest_type', 'rate'])\n",
        "avg_rating_by_rest_type = df_clean.groupby('rest_type')['rate'].mean().sort_values()\n",
        "print(\"Restaurant types with lowest average ratings (potential high complaints):\")\n",
        "print(avg_rating_by_rest_type.head(5))"
      ],
      "metadata": {
        "colab": {
          "base_uri": "https://localhost:8080/"
        },
        "id": "xWZG_RUJv3QJ",
        "outputId": "b69d3417-0249-4000-f9b0-c97b8e11375f"
      },
      "execution_count": null,
      "outputs": [
        {
          "output_type": "stream",
          "name": "stdout",
          "text": [
            "Restaurant types with lowest average ratings (potential high complaints):\n",
            "rest_type\n",
            "Dessert Parlor, Kiosk        3.000000\n",
            "Bakery, Food Court           3.100000\n",
            "Bakery, Beverage Shop        3.200000\n",
            "Food Court, Casual Dining    3.240000\n",
            "Bhojanalya                   3.266667\n",
            "Name: rate, dtype: float64\n"
          ]
        }
      ]
    },
    {
      "cell_type": "code",
      "source": [
        "# in which area should zomato invest by comsidering high rating (rate>4.2) hgh number of votes(>500 and including online orders)\n",
        "if df['rate'].dtype == object:\n",
        "    df['rate'] = df['rate'].str.extract(r'(\\d+\\.?\\d*)')\n",
        "    df['rate'] = pd.to_numeric(df['rate'], errors='coerce')\n",
        "filtered_df = df[\n",
        "    (df['rate'] > 4.2) &\n",
        "    (df['votes'] > 500) &\n",
        "    (df['online_order'].str.lower() == 'yes')\n",
        "]\n",
        "\n",
        "top_areas = filtered_df['listed_incity'].value_counts().head(10)\n",
        "print(\"Top areas where Zomato should consider investing:\")\n",
        "print(top_areas)"
      ],
      "metadata": {
        "colab": {
          "base_uri": "https://localhost:8080/"
        },
        "id": "amx92QZRwgRQ",
        "outputId": "56823779-6b93-4ec5-870b-6481bb870a1e"
      },
      "execution_count": 25,
      "outputs": [
        {
          "output_type": "stream",
          "name": "stdout",
          "text": [
            "Top areas where Zomato should consider investing:\n",
            "listed_incity\n",
            "MG Road                  97\n",
            "Koramangala 7th Block    97\n",
            "Church Street            95\n",
            "Koramangala 4th Block    95\n",
            "Brigade Road             94\n",
            "Koramangala 5th Block    92\n",
            "BTM                      91\n",
            "Koramangala 6th Block    90\n",
            "Lavelle Road             82\n",
            "Residency Road           81\n",
            "Name: count, dtype: int64\n"
          ]
        }
      ]
    }
  ]
}